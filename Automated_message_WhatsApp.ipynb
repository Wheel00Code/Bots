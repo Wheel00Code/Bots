{
 "cells": [
  {
   "cell_type": "markdown",
   "id": "aa5304c8",
   "metadata": {},
   "source": [
    "# Welcome to Automated_message_WhatsApp Bot"
   ]
  },
  {
   "cell_type": "markdown",
   "id": "99a0960c",
   "metadata": {},
   "source": [
    "In this bot you will have to fill some variables, you will find this (\"# <--  Fill...) to recognize where you have to fill it\n",
    "\n",
    "Also you will need to have selenium install, and enter the executable_path with the chrome driver \"chromedriver.exe\""
   ]
  },
  {
   "cell_type": "markdown",
   "id": "d7eb921f",
   "metadata": {},
   "source": [
    "# Import "
   ]
  },
  {
   "cell_type": "code",
   "execution_count": 1,
   "id": "ce1c3eb9",
   "metadata": {},
   "outputs": [],
   "source": [
    "import time\n",
    "from selenium import webdriver\n",
    "import datetime\n",
    "import random"
   ]
  },
  {
   "cell_type": "markdown",
   "id": "15500837",
   "metadata": {},
   "source": [
    "# Enter the contact you want to send the message to"
   ]
  },
  {
   "cell_type": "code",
   "execution_count": 2,
   "id": "f7678db3",
   "metadata": {},
   "outputs": [],
   "source": [
    "name_contact = \"Contact_name\" # <--  Fill the contact name  "
   ]
  },
  {
   "cell_type": "markdown",
   "id": "9d7d16fa",
   "metadata": {},
   "source": [
    "# WhatsApp Bot functions  and explanation."
   ]
  },
  {
   "cell_type": "code",
   "execution_count": 3,
   "id": "7ab0b3de",
   "metadata": {},
   "outputs": [],
   "source": [
    "# Open de Chrome with the driver:\n",
    "# Fill the executable_path with the folder of the chromedriver.exe\n",
    "\n",
    "browser = webdriver.Chrome(executable_path = r\"C:\\Users\\Enric Roda\\source\\repos\\ChatBot\\ChatBot\\driver\\chromedriver.exe\")"
   ]
  },
  {
   "cell_type": "code",
   "execution_count": 4,
   "id": "3047ed4c",
   "metadata": {},
   "outputs": [],
   "source": [
    "# Confirm that the user has scan the QR code\n",
    "\n",
    "def validar_QR ():\n",
    "    try:\n",
    "        element = browser.find_element_by_tag_name(\"canvas\")\n",
    "    except:\n",
    "        return False\n",
    "    return True    "
   ]
  },
  {
   "cell_type": "code",
   "execution_count": 5,
   "id": "a2bcb906",
   "metadata": {},
   "outputs": [],
   "source": [
    "# Select the chat of contact we had enter in the variable \"name_contact\"\n",
    "\n",
    "def seleccionarChat(name_contact : str):\n",
    "    elements = browser.find_elements_by_tag_name(\"span\")\n",
    "    for element in elements:\n",
    "        if element.text == name_contact:\n",
    "            element.click()\n",
    "            return True\n",
    "    return False"
   ]
  },
  {
   "cell_type": "markdown",
   "id": "caa91209",
   "metadata": {},
   "source": [
    "## Enter the differents messages you want to send aleatori:"
   ]
  },
  {
   "cell_type": "code",
   "execution_count": 6,
   "id": "6dfeb6b8",
   "metadata": {},
   "outputs": [
    {
     "name": "stdout",
     "output_type": "stream",
     "text": [
      "If you want a aletori messages intoduce yes, else no: no\n"
     ]
    }
   ],
   "source": [
    "# print(\"Do you want to send a aletori messages of a list or a specific one:\")\n",
    "\n",
    "type_message = input(\"If you want a aletori messages intoduce yes, else no: \")\n",
    "response = type_message.title()"
   ]
  },
  {
   "cell_type": "markdown",
   "id": "5ceb0f3a",
   "metadata": {},
   "source": [
    "### If you had enter yes fill all this messages"
   ]
  },
  {
   "cell_type": "code",
   "execution_count": 7,
   "id": "6cfb9af6",
   "metadata": {},
   "outputs": [],
   "source": [
    "# Alteori:\n",
    "message0 = \"Write here message0\" # <-- Fill the message\n",
    "message1 = \"Write here message1\" # <-- Fill the message\n",
    "message2 = \"Write here message2\" # <-- Fill the message\n",
    "message3 = \"Write here message3\" # <-- Fill the message\n",
    "message4 = \"Write here message4\" # <-- Fill the message\n",
    "message5 = \"Write here message5\" # <-- Fill the message"
   ]
  },
  {
   "cell_type": "markdown",
   "id": "a823b56a",
   "metadata": {},
   "source": [
    "### If you had enter no fill this message"
   ]
  },
  {
   "cell_type": "code",
   "execution_count": 8,
   "id": "326e2b87",
   "metadata": {},
   "outputs": [],
   "source": [
    "# Just a message\n",
    "\n",
    "message = \"Write here message\" # <-- Fill the message"
   ]
  },
  {
   "cell_type": "code",
   "execution_count": 9,
   "id": "ae5d82a1",
   "metadata": {},
   "outputs": [],
   "source": [
    "# Generate a alteori message of one of the list below\n",
    "\n",
    "def generar_mensaje():\n",
    "    if response == \"Yes\":\n",
    "        msnBonDia = [message0, message1, message2, message3,message4, message5]\n",
    "        tamaño = (len(msnBonDia) -1)\n",
    "        n = random.randint(0,tamaño)\n",
    "        mensaje = msnBonDia[n]\n",
    "        return mensaje\n",
    "    if response == \"No\":\n",
    "        return message\n",
    "    \n",
    "    else:\n",
    "        print(\"You didn't enter well the answer. Only can be yes or no\")"
   ]
  },
  {
   "cell_type": "code",
   "execution_count": 10,
   "id": "6379fefb",
   "metadata": {},
   "outputs": [],
   "source": [
    "# Write the message and send it\n",
    "\n",
    "def enviar_mensaje ():\n",
    "    chatbox = browser.find_element_by_xpath(\"//*[@id='main']/footer/div[1]/div/div/div[2]/div[1]/div/div[2]\")\n",
    "    chatbox.send_keys(generar_mensaje())\n",
    "    time.sleep(3)\n",
    "    But_env = browser.find_element_by_xpath(\"//*[@id='main']/footer/div[1]/div/div/div[2]/div[2]/button\")\n",
    "    But_env.click()"
   ]
  },
  {
   "cell_type": "code",
   "execution_count": 11,
   "id": "84093f27",
   "metadata": {},
   "outputs": [],
   "source": [
    "# Main function: Enter whatsApp --> Confirm you enter --> Select the chat --> Send the message\n",
    "\n",
    "def botWhatsapp():\n",
    "    browser.get(\"https://web.whatsapp.com/\")\n",
    "    time.sleep(5)\n",
    "    \n",
    "    espera = True\n",
    "    \n",
    "    while espera:\n",
    "        print(\"Estoy esperando\")\n",
    "        espera = validar_QR()\n",
    "        time.sleep(2)\n",
    "        if espera == False:\n",
    "            print(\"Se identificó\")\n",
    "            break\n",
    "    \n",
    "    time.sleep(3)\n",
    "    chat = seleccionarChat(name_contact)\n",
    "    enviar_mensaje()"
   ]
  },
  {
   "cell_type": "markdown",
   "id": "513dc53f",
   "metadata": {},
   "source": [
    "# Execute the Bot:"
   ]
  },
  {
   "cell_type": "markdown",
   "id": "b2f701f5",
   "metadata": {},
   "source": [
    "Advice: \n",
    "- The Bot will start running once you execute the while loop, but if is not the hour or the minute will keep it in sleep mode. If you want to play with it, I recommend you enter one minute after the actual one in the variable \"message_minute\" to see all the evolution.\n",
    "\n",
    "\n",
    "\n",
    "- The Bot that sends a message every day whenever has done the main function sleep one hour, so you will have to wait an hour or restart the kernel. This happens because we just want to send one message per hour, so we have to keep the bot sleeping until the next one to don't have to run the code again."
   ]
  },
  {
   "cell_type": "markdown",
   "id": "e77c1bf3",
   "metadata": {},
   "source": [
    "Enter the hour or minute you want to send the message:"
   ]
  },
  {
   "cell_type": "code",
   "execution_count": 12,
   "id": "7e58fc60",
   "metadata": {},
   "outputs": [],
   "source": [
    "# The variable \"hour_message\" must be from 0 to 23\n",
    "\n",
    "hour_message = \"19\" # <-- Fill hour you want to send the message\n",
    "\n",
    "# The variable \"message_minute\" must be from 0 to 23\n",
    "\n",
    "message_minute = \"30\" # <-- Fill minute you want to send the message"
   ]
  },
  {
   "cell_type": "code",
   "execution_count": 13,
   "id": "8f1f4c00",
   "metadata": {},
   "outputs": [
    {
     "name": "stdout",
     "output_type": "stream",
     "text": [
      "The variable hour_message is correct !\n",
      "The variable message_minute is correct !\n"
     ]
    }
   ],
   "source": [
    "# Check if the variables are right\n",
    "\n",
    "hour_message = int(hour_message)\n",
    "message_minute = int(message_minute)\n",
    "\n",
    "if (hour_message >= 0) and (hour_message <= 23):\n",
    "    print(\"The variable hour_message is correct !\")\n",
    "else:\n",
    "    print(\"You had enter and hour that is not possible, check the variable 'hour_message'\")\n",
    "    \n",
    "if (message_minute >= 0) and (message_minute <= 59):\n",
    "    print(\"The variable message_minute is correct !\")\n",
    "else:\n",
    "    print(\"You had enter and minute that is not possible, check the variable 'message_minute'\")\n",
    "    \n"
   ]
  },
  {
   "cell_type": "markdown",
   "id": "5eb6363a",
   "metadata": {},
   "source": [
    "# Every Hour at the minute selected"
   ]
  },
  {
   "cell_type": "code",
   "execution_count": null,
   "id": "a1200c12",
   "metadata": {},
   "outputs": [],
   "source": [
    " Bucle infinito que se activa cuando la h és las 9 de la mañana para activar el proceso completo\n",
    "\n",
    "# To stop the loop, interrupt the kernel and wait 1 minute, to let the Bot stop sleeping\n",
    "\n",
    "while True:\n",
    "    \n",
    "    # Get the actual minute.\n",
    "    m = time.strftime(\"%M\")  \n",
    "    message_minute = str(message_minute)\n",
    "    \n",
    "    # If the minute is the same as the one entered by the user, call the botWhatsapp() function (main)\n",
    "    if m == message_minute:\n",
    "        botWhatsapp()\n",
    "        time.sleep(60)\n",
    "        \n",
    "     # Else wait 1 min, and print is still not the minute    \n",
    "    if m != message_minute:\n",
    "        print(\"It's not the minute\", message_minute, \"yet\")\n",
    "        time.sleep(60)"
   ]
  },
  {
   "cell_type": "markdown",
   "id": "b1b62846",
   "metadata": {},
   "source": [
    "# Send a message  every day at the same hour:"
   ]
  },
  {
   "cell_type": "code",
   "execution_count": null,
   "id": "dfb2dd67",
   "metadata": {},
   "outputs": [
    {
     "name": "stdout",
     "output_type": "stream",
     "text": [
      "Estoy esperando\n",
      "Se identificó\n"
     ]
    }
   ],
   "source": [
    "while True:\n",
    "    \n",
    "    # Get the actual hour.\n",
    "    h = time.strftime(\"%H\")    \n",
    "    hour_message = str(hour_message)\n",
    "    \n",
    "    # If the hour is the same as the one entered by the user, call the botWhatsapp() function (main)\n",
    "    if h == hour_message:\n",
    "        botWhatsapp()\n",
    "        time.sleep(3600)  # Wait 1h because i just want one message that hour\n",
    "    \n",
    "    # Else wait 1 min, and print is still not the hour\n",
    "    if h != hour_message:\n",
    "        print(\"It's not\", hour_message ,\"yet\")\n",
    "        time.sleep(60)"
   ]
  },
  {
   "cell_type": "markdown",
   "id": "01a0d73b",
   "metadata": {},
   "source": [
    "# Infinite bucle of sending the messages"
   ]
  },
  {
   "cell_type": "code",
   "execution_count": null,
   "id": "8c680db5",
   "metadata": {},
   "outputs": [],
   "source": [
    "# To stop it \"interrupt the kernel\" --> clik black square and close the chrome\n",
    "\n",
    "while True:\n",
    "        botWhatsapp()"
   ]
  }
 ],
 "metadata": {
  "kernelspec": {
   "display_name": "Python 3 (ipykernel)",
   "language": "python",
   "name": "python3"
  },
  "language_info": {
   "codemirror_mode": {
    "name": "ipython",
    "version": 3
   },
   "file_extension": ".py",
   "mimetype": "text/x-python",
   "name": "python",
   "nbconvert_exporter": "python",
   "pygments_lexer": "ipython3",
   "version": "3.9.6"
  },
  "toc": {
   "base_numbering": 1,
   "nav_menu": {},
   "number_sections": true,
   "sideBar": true,
   "skip_h1_title": false,
   "title_cell": "Table of Contents",
   "title_sidebar": "Contents",
   "toc_cell": false,
   "toc_position": {},
   "toc_section_display": true,
   "toc_window_display": true
  },
  "varInspector": {
   "cols": {
    "lenName": 16,
    "lenType": 16,
    "lenVar": 40
   },
   "kernels_config": {
    "python": {
     "delete_cmd_postfix": "",
     "delete_cmd_prefix": "del ",
     "library": "var_list.py",
     "varRefreshCmd": "print(var_dic_list())"
    },
    "r": {
     "delete_cmd_postfix": ") ",
     "delete_cmd_prefix": "rm(",
     "library": "var_list.r",
     "varRefreshCmd": "cat(var_dic_list()) "
    }
   },
   "types_to_exclude": [
    "module",
    "function",
    "builtin_function_or_method",
    "instance",
    "_Feature"
   ],
   "window_display": false
  }
 },
 "nbformat": 4,
 "nbformat_minor": 5
}
